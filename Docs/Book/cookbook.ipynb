{
 "metadata": {
  "name": "",
  "signature": "sha256:c2ded7bc3c34f3981bf9178ad31134c58b0e593166a1984dda523589f23b8ec4"
 },
 "nbformat": 3,
 "nbformat_minor": 0,
 "worksheets": [
  {
   "cells": [
    {
     "cell_type": "markdown",
     "metadata": {},
     "source": [
      "# RDKit Cookbook\n",
      "\n",
      "## What is this?\n",
      "\n",
      "This document provides examples of how to carry out particular tasks using the RDKit functionality from Python. The contents have been contributed by the RDKit community.\n",
      "\n",
      "If you find mistakes, or have suggestions for improvements, please either fix them yourselves in the source document (the .rst file) or send them to the mailing list: <rdkit-discuss@lists.sourceforge.net> (you will need to subscribe first)\n",
      "\n",
      "## Miscellaneous Topics\n",
      "\n",
      "### Using a different aromaticity model\n",
      "\n",
      "By default, the RDKit applies its own model of aromaticity (explained in the RDKit Theory Book) when it reads in molecules. It is, however, fairly easy to override this and use your own aromaticity model.\n",
      "\n",
      "The easiest way to do this is it provide the molecules as SMILES with the aromaticity set as you would prefer to have it. For example, consider indole:\n",
      "\n",
      "![image](images/indole1.png)\n",
      "\n",
      "By default the RDKit considers both rings to be aromatic:"
     ]
    },
    {
     "cell_type": "code",
     "collapsed": false,
     "input": [
      "import sys\n",
      "# the mock-0.3.1 dir contains testcase.py, testutils.py & mock.py\n",
      "sys.path.append('')"
     ],
     "language": "python",
     "metadata": {},
     "outputs": []
    },
    {
     "cell_type": "code",
     "collapsed": false,
     "input": [
      "from rdkit import Chem\n",
      "m = Chem.MolFromSmiles('N1C=Cc2ccccc12')\n",
      "m.GetSubstructMatches(Chem.MolFromSmarts('c'))"
     ],
     "language": "python",
     "metadata": {},
     "outputs": [
      {
       "ename": "ImportError",
       "evalue": "No module named rdkit",
       "output_type": "pyerr",
       "traceback": [
        "\u001b[1;31m---------------------------------------------------------------------------\u001b[0m\n\u001b[1;31mImportError\u001b[0m                               Traceback (most recent call last)",
        "\u001b[1;32m<ipython-input-1-50f45e2e1a74>\u001b[0m in \u001b[0;36m<module>\u001b[1;34m()\u001b[0m\n\u001b[1;32m----> 1\u001b[1;33m \u001b[1;32mfrom\u001b[0m \u001b[0mrdkit\u001b[0m \u001b[1;32mimport\u001b[0m \u001b[0mChem\u001b[0m\u001b[1;33m\u001b[0m\u001b[0m\n\u001b[0m\u001b[0;32m      2\u001b[0m \u001b[0mm\u001b[0m \u001b[1;33m=\u001b[0m \u001b[0mChem\u001b[0m\u001b[1;33m.\u001b[0m\u001b[0mMolFromSmiles\u001b[0m\u001b[1;33m(\u001b[0m\u001b[1;34m'N1C=Cc2ccccc12'\u001b[0m\u001b[1;33m)\u001b[0m\u001b[1;33m\u001b[0m\u001b[0m\n\u001b[0;32m      3\u001b[0m \u001b[0mm\u001b[0m\u001b[1;33m.\u001b[0m\u001b[0mGetSubstructMatches\u001b[0m\u001b[1;33m(\u001b[0m\u001b[0mChem\u001b[0m\u001b[1;33m.\u001b[0m\u001b[0mMolFromSmarts\u001b[0m\u001b[1;33m(\u001b[0m\u001b[1;34m'c'\u001b[0m\u001b[1;33m)\u001b[0m\u001b[1;33m)\u001b[0m\u001b[1;33m\u001b[0m\u001b[0m\n",
        "\u001b[1;31mImportError\u001b[0m: No module named rdkit"
       ]
      }
     ],
     "prompt_number": 1
    },
    {
     "cell_type": "markdown",
     "metadata": {},
     "source": [
      "If you'd prefer to treat the five-membered ring as aliphatic, which is how the input SMILES is written, you just need to do a partial sanitization that skips the kekulization and aromaticity perception steps:"
     ]
    },
    {
     "cell_type": "code",
     "collapsed": false,
     "input": [
      "m2 = Chem.MolFromSmiles('N1C=Cc2ccccc12',sanitize=False)\n",
      "Chem.SanitizeMol(m2,sanitizeOps=Chem.SanitizeFlags.SANITIZE_ALL^Chem.SanitizeFlags.SANITIZE_KEKULIZE^Chem.SanitizeFlags.SANITIZE_SETAROMATICITY)\n",
      "m2.GetSubstructMatches(Chem.MolFromSmarts('c'))"
     ],
     "language": "python",
     "metadata": {},
     "outputs": []
    },
    {
     "cell_type": "markdown",
     "metadata": {},
     "source": [
      "It is, of course, also possible to write your own aromaticity perception function, but that is beyond the scope of this document.\n",
      "\n",
      "## Manipulating Molecules\n",
      "\n",
      "### Cleaning up heterocycles\n",
      "\n",
      "Mailing list discussions:\n",
      "\n",
      "-   <http://www.mail-archive.com/rdkit-discuss@lists.sourceforge.net/msg01185.html>\n",
      "-   <http://www.mail-archive.com/rdkit-discuss@lists.sourceforge.net/msg01162.html>\n",
      "-   <http://www.mail-archive.com/rdkit-discuss@lists.sourceforge.net/msg01900.html>\n",
      "-   <http://www.mail-archive.com/rdkit-discuss@lists.sourceforge.net/msg01901.html>\n",
      "\n",
      "The code:\n",
      "\n",
      "Examples of using it:\n",
      "\n",
      "This produces:\n",
      "\n",
      "### Parallel conformation generation\n",
      "\n",
      "Mailing list discussion: <http://www.mail-archive.com/rdkit-discuss@lists.sourceforge.net/msg02648.html>\n",
      "\n",
      "The code:\n",
      "\n",
      "    \"\"\" contribution from Andrew Dalke \"\"\""
     ]
    },
    {
     "cell_type": "code",
     "collapsed": false,
     "input": [
      "import sys\n",
      "from rdkit import Chem\n",
      "from rdkit.Chem import AllChem\n",
      "\n",
      "# Download this from http://pypi.python.org/pypi/futures\n",
      "from concurrent import futures\n",
      "\n",
      "# Download this from http://pypi.python.org/pypi/progressbar\n",
      "import progressbar\n",
      "\n",
      "## On my machine, it takes 39 seconds with 1 worker and 10 seconds with 4.\n",
      "## 29.055u 0.102s 0:28.68 101.6%   0+0k 0+3io 0pf+0w\n",
      "#max_workers=1\n",
      "\n",
      "## With 4 threads it takes 11 seconds.\n",
      "## 34.933u 0.188s 0:10.89 322.4%   0+0k 125+1io 0pf+0w\n",
      "max_workers=4\n",
      "\n",
      "# (The \"u\"ser time includes time spend in the children processes.\n",
      "#  The wall-clock time is 28.68 and 10.89 seconds, respectively.)\n",
      "\n",
      "# This function is called in the subprocess.\n",
      "# The parameters (molecule and number of conformers) are passed via a Python\n",
      "def generateconformations(m, n):\n",
      "    m = Chem.AddHs(m)\n",
      "    ids=AllChem.EmbedMultipleConfs(m, numConfs=n)\n",
      "    for id in ids:\n",
      "        AllChem.UFFOptimizeMolecule(m, confId=id)\n",
      "    # EmbedMultipleConfs returns a Boost-wrapped type which\n",
      "    # cannot be pickled. Convert it to a Python list, which can.\n",
      "    return m, list(ids)\n",
      "\n",
      "smi_input_file, sdf_output_file = sys.argv[1:3]\n",
      "\n",
      "n = int(sys.argv[3])\n",
      "\n",
      "writer = Chem.SDWriter(sdf_output_file)\n",
      "\n",
      "suppl = Chem.SmilesMolSupplier(smi_input_file, titleLine=False)\n",
      "\n",
      "with futures.ProcessPoolExecutor(max_workers=max_workers) as executor:\n",
      "    # Submit a set of asynchronous jobs\n",
      "    jobs = []\n",
      "    for mol in suppl:\n",
      "        if mol:\n",
      "            job = executor.submit(generateconformations, mol, n)\n",
      "            jobs.append(job)\n",
      "\n",
      "    widgets = [\"Generating conformations; \", progressbar.Percentage(), \" \",\n",
      "               progressbar.ETA(), \" \", progressbar.Bar()]\n",
      "    pbar = progressbar.ProgressBar(widgets=widgets, maxval=len(jobs))\n",
      "    for job in pbar(futures.as_completed(jobs)):\n",
      "        mol,ids=job.result()\n",
      "        for id in ids:\n",
      "            writer.write(mol, confId=id)\n",
      "writer.close()"
     ],
     "language": "python",
     "metadata": {},
     "outputs": []
    },
    {
     "cell_type": "markdown",
     "metadata": {},
     "source": [
      "### Neutralizing Charged Molecules\n",
      "\n",
      "Mailing list discussion: <http://www.mail-archive.com/rdkit-discuss@lists.sourceforge.net/msg02648.html>\n",
      "\n",
      "The code:\n",
      "\n",
      "Examples of using it:\n",
      "\n",
      "This produces:"
     ]
    },
    {
     "cell_type": "markdown",
     "metadata": {},
     "source": [
      "## 3D functionality in the RDKit\n",
      "\n",
      "The RDKit contains a range of 3D functionalities such as:\n",
      "\n",
      "<table>\n",
      "<colgroup>\n",
      "<col width=\"47%\" />\n",
      "</colgroup>\n",
      "<tbody>\n",
      "<tr class=\"odd\">\n",
      "<td align=\"left\">Shape alignment</td>\n",
      "</tr>\n",
      "<tr class=\"even\">\n",
      "<td align=\"left\">RMS calculation</td>\n",
      "</tr>\n",
      "<tr class=\"odd\">\n",
      "<td align=\"left\">Shape Tanimoto Distance</td>\n",
      "</tr>\n",
      "<tr class=\"even\">\n",
      "<td align=\"left\">Shape Protrude Distance</td>\n",
      "</tr>\n",
      "<tr class=\"odd\">\n",
      "<td align=\"left\">3D pharmacophore fingerprint</td>\n",
      "</tr>\n",
      "<tr class=\"even\">\n",
      "<td align=\"left\">Torsion fingerprint (deviation)</td>\n",
      "</tr>\n",
      "</tbody>\n",
      "</table>"
     ]
    },
    {
     "cell_type": "markdown",
     "metadata": {},
     "source": [
      "There are two alignment methods currently available in the RDKit. As an example we use two crystal structures from the PDB of the same molecule.\n",
      "\n",
      "The code:\n",
      "\n",
      "This produces:\n"
     ]
    },
    {
     "cell_type": "markdown",
     "metadata": {},
     "source": [
      "If a molecule contains more than one conformer, they can be aligned with respect to the first conformer. If a list is provided to the option RMSlist, the RMS value from the alignment are stored. The RMS value of two conformers of a molecule can also be calculated separately, either with or without alignment (using the flag prealigned).\n",
      "\n",
      "Examples of using it:\n",
      "\n",
      "This produces:"
     ]
    },
    {
     "cell_type": "markdown",
     "metadata": {},
     "source": [
      "For shape comparison, the RDKit provides two Shape-based distances that can be calculated for two prealigned molecules or conformers. Shape protrude distance focusses on the volume mismatch, while Shape Tanimoto distance takes the volume overlay overall into account.\n",
      "\n",
      "Examples of using it:\n",
      "\n",
      "This produces:"
     ]
    },
    {
     "cell_type": "markdown",
     "metadata": {},
     "source": [
      "A 3D pharmacophore fingerprint can be calculated using the RDKit by feeding a 3D distance matrix to the 2D-pharmacophore machinery.\n",
      "\n",
      "Examples of using it:\n",
      "\n",
      "This produces:"
     ]
    },
    {
     "cell_type": "markdown",
     "metadata": {},
     "source": [
      "The RDKit provides an implementation of the torsion fingerprint deviation (TFD) approach developed by Schulz-Gasch et al. (J. Chem. Inf. Model, 52, 1499, 2012). The RDKit implementation allows the user to customize the torsion fingerprints:\n",
      "\n",
      "-   In the original approach, the torsions are weighted based on their distance to the center of the molecule. By default, this weighting is performed, but can be turned off using the flag useWeights=False\n",
      "-   The similarity between atoms is determined by comparing the hash codes from the Morgan algorithm at a given radius (default: radius = 2).\n",
      "-   In the original approach, the maximal deviation used for normalization is 180.0 degrees for all torsions (default). If maxDev='spec', a torsion-type dependent maximal deviation is used for the normalization.\n",
      "\n",
      "Examples of using it:\n",
      "\n",
      "This produces:"
     ]
    },
    {
     "cell_type": "markdown",
     "metadata": {},
     "source": [
      "If the TFD between conformers of the same molecule is to be calculated, the function GetTFDBetweenConformers() should be used for performance reasons.\n",
      "\n",
      "Examples of using it:\n",
      "\n",
      "This produces:"
     ]
    },
    {
     "cell_type": "markdown",
     "metadata": {},
     "source": [
      "For the conformer RMS and TFD values, the RDKit provides convenience functions that calculated directly the symmetric matrix which can be fed into a clustering algorithm such as Butina clustering. The flag reordering ensures that the number of neighbors of the unclustered molecules is updated every time a cluster is created.\n",
      "\n",
      "Examples of using it:"
     ]
    },
    {
     "cell_type": "markdown",
     "metadata": {},
     "source": [
      "## Using scikit-learn with RDKit\n",
      "\n",
      "scikit-learn is a machine-learning library for Python containing a variety of supervised and unsupervised methods. The documention can be found here: <http://scikit-learn.org/stable/user_guide.html>\n",
      "\n",
      "RDKit fingerprints can be used to train machine-learning models from scikit-learn. Here is an example for random forest:"
     ]
    },
    {
     "cell_type": "code",
     "collapsed": false,
     "input": [
      "from rdkit import Chem, DataStructs\n",
      "from rdkit.Chem import AllChem\n",
      "from sklearn.ensemble import RandomForestClassifier\n",
      "import numpy\n",
      "\n",
      "# generate four molecules\n",
      "m1 = Chem.MolFromSmiles('c1ccccc1')\n",
      "m2 = Chem.MolFromSmiles('c1ccccc1CC')\n",
      "m3 = Chem.MolFromSmiles('c1ccncc1')\n",
      "m4 = Chem.MolFromSmiles('c1ccncc1CC')\n",
      "mols = [m1, m2, m3, m4]\n",
      "\n",
      "# generate fingeprints: Morgan fingerprint with radius 2\n",
      "fps = [AllChem.GetMorganFingerprintAsBitVect(m, 2) for m in mols]\n",
      "\n",
      "# convert the RDKit explicit vectors into numpy arrays\n",
      "np_fps = []\n",
      "for fp in fps:\n",
      "    arr = numpy.zeros((1,))\n",
      "    DataStructs.ConvertToNumpyArray(fp, arr)\n",
      "    np_fps.append(arr)\n",
      "\n",
      "# get a random forest classifiert with 100 trees\n",
      "rf = RandomForestClassifier(n_estimators=100, random_state=1123)\n",
      "\n",
      "# train the random forest\n",
      "# with the first two molecules being actives (class 1) and\n",
      "# the last two being inactives (class 0)\n",
      "ys_fit = [1, 1, 0, 0]\n",
      "rf.fit(np_fps, ys_fit)\n",
      "\n",
      "# use the random forest to predict a new molecule\n",
      "m5 = Chem.MolFromSmiles('c1ccccc1O')\n",
      "fp = numpy.zeros((1,))\n",
      "DataStructs.ConvertToNumpyArray(AllChem.GetMorganFingerprintAsBitVect(m5, 2), fp)\n",
      "\n",
      "print rf.predict(fp)\n",
      "print rf.predict_proba(fp)"
     ],
     "language": "python",
     "metadata": {},
     "outputs": [
      {
       "ename": "ImportError",
       "evalue": "No module named rdkit",
       "output_type": "pyerr",
       "traceback": [
        "\u001b[1;31m---------------------------------------------------------------------------\u001b[0m\n\u001b[1;31mImportError\u001b[0m                               Traceback (most recent call last)",
        "\u001b[1;32m<ipython-input-2-2860201c7453>\u001b[0m in \u001b[0;36m<module>\u001b[1;34m()\u001b[0m\n\u001b[1;32m----> 1\u001b[1;33m \u001b[1;32mfrom\u001b[0m \u001b[0mrdkit\u001b[0m \u001b[1;32mimport\u001b[0m \u001b[0mChem\u001b[0m\u001b[1;33m,\u001b[0m \u001b[0mDataStructs\u001b[0m\u001b[1;33m\u001b[0m\u001b[0m\n\u001b[0m\u001b[0;32m      2\u001b[0m \u001b[1;32mfrom\u001b[0m \u001b[0mrdkit\u001b[0m\u001b[1;33m.\u001b[0m\u001b[0mChem\u001b[0m \u001b[1;32mimport\u001b[0m \u001b[0mAllChem\u001b[0m\u001b[1;33m\u001b[0m\u001b[0m\n\u001b[0;32m      3\u001b[0m \u001b[1;32mfrom\u001b[0m \u001b[0msklearn\u001b[0m\u001b[1;33m.\u001b[0m\u001b[0mensemble\u001b[0m \u001b[1;32mimport\u001b[0m \u001b[0mRandomForestClassifier\u001b[0m\u001b[1;33m\u001b[0m\u001b[0m\n\u001b[0;32m      4\u001b[0m \u001b[1;32mimport\u001b[0m \u001b[0mnumpy\u001b[0m\u001b[1;33m\u001b[0m\u001b[0m\n\u001b[0;32m      5\u001b[0m \u001b[1;33m\u001b[0m\u001b[0m\n",
        "\u001b[1;31mImportError\u001b[0m: No module named rdkit"
       ]
      }
     ],
     "prompt_number": 2
    },
    {
     "cell_type": "markdown",
     "metadata": {},
     "source": [
      "Generating a similarity map for this model:"
     ]
    },
    {
     "cell_type": "code",
     "collapsed": false,
     "input": [
      "from rdkit.Chem.Draw import SimilarityMaps\n",
      "\n",
      "# helper function\n",
      "def getProba(fp, predictionFunction):\n",
      "    return predictionFunction(fp)[0][1]\n",
      "\n",
      "m5 = Chem.MolFromSmiles('c1ccccc1O')\n",
      "fig, maxweight = SimilarityMaps.GetSimilarityMapForModel(m5, SimilarityMaps.GetMorganFingerprint, lambda x: getProba(x, rf.predict_proba))"
     ],
     "language": "python",
     "metadata": {},
     "outputs": []
    },
    {
     "cell_type": "markdown",
     "metadata": {},
     "source": [
      "## Using custom MCS atom types\n",
      "\n",
      "Mailing list discussion: <http://www.mail-archive.com/rdkit-discuss@lists.sourceforge.net/msg03676.html>\n",
      "\n",
      "IPython notebook: <http://nbviewer.ipython.org/gist/greglandrum/8351725> <https://gist.github.com/greglandrum/8351725>\n",
      "\n",
      "The goal is to be able to use custom atom types in the MCS code, yet still be able to get a readable SMILES for the MCS. We will use the MCS code's option to use isotope information in the matching and then set bogus isotope values that contain our isotope information.\n",
      "\n",
      "The output above is what we asked for, but it's not exactly readable. We can get to a more readable form in a two step process:\n",
      "\n",
      "> 1.  Do a substructure match of the MCS onto a copied molecule\n",
      "> 2.  Generate SMILES for the original molecule, using only the atoms that matched in the copy.\n",
      "\n",
      "This works because we know that the atom indices in the copies and the original molecules are the same.\n",
      "\n",
      "That's what we were looking for."
     ]
    },
    {
     "cell_type": "markdown",
     "metadata": {},
     "source": [
      "## Clustering molecules\n",
      "\n",
      "For large sets of molecules (more than 1000-2000), it's most efficient to use the Butina clustering algorithm.\n",
      "\n",
      "Here's some code for doing that for a set of fingerprints:"
     ]
    },
    {
     "cell_type": "code",
     "collapsed": false,
     "input": [
      "def ClusterFps(fps,cutoff=0.2):\n",
      "    from rdkit import DataStructs\n",
      "    from rdkit.ML.Cluster import Butina\n",
      "\n",
      "    # first generate the distance matrix:\n",
      "    dists = []\n",
      "    nfps = len(fps)\n",
      "    for i in range(1,nfps):\n",
      "        sims = DataStructs.BulkTanimotoSimilarity(fps[i],fps[:i])\n",
      "        dists.extend([1-x for x in sims])\n",
      "\n",
      "    # now cluster the data:\n",
      "    cs = Butina.ClusterData(dists,nfps,cutoff,isDistData=True)\n",
      "    return cs"
     ],
     "language": "python",
     "metadata": {},
     "outputs": []
    },
    {
     "cell_type": "markdown",
     "metadata": {},
     "source": [
      "The return value is a tuple of clusters, where each cluster is a tuple of ids.\n",
      "\n",
      "Example usage:"
     ]
    },
    {
     "cell_type": "code",
     "collapsed": false,
     "input": [
      "from rdkit import Chem\n",
      "from rdkit.Chem import AllChem\n",
      "import gzip\n",
      "ms = [x for x in Chem.ForwardSDMolSupplier(gzip.open('zdd.sdf.gz')) if x is not None]\n",
      "fps = [AllChem.GetMorganFingerprintAsBitVect(x,2,1024) for x in ms]\n",
      "clusters=ClusterFps(fps,cutoff=0.4)\n",
      "\n",
      "#The variable clusters contains the results:\n",
      "print clusters[200]"
     ],
     "language": "python",
     "metadata": {},
     "outputs": []
    },
    {
     "cell_type": "markdown",
     "metadata": {},
     "source": [
      "That cluster contains 7 points, the centroid is point 6164."
     ]
    },
    {
     "cell_type": "markdown",
     "metadata": {},
     "source": [
      "## RMSD Calculation between N molecules\n",
      "\n",
      "### Introduction\n",
      "\n",
      "We sometimes need to calculate RMSD distances between two (or more) molecules. This can be used to calculate how close two conformers are. Most RMSD calculations make sense only on similar compounds or, at least, for common parts in different compounds.\n",
      "\n",
      "### Details\n",
      "\n",
      "The following program (written in python 2.7) takes an SDF file as an input and generates all the RMSD distances between the molecules in that file. These distances are written to an output file (user defined).\n",
      "\n",
      "So for an SDF with 5 conformers we will get 10 RMSD scores - typical n choose k problem, without repetition i.e. 5! / 2!(5-2)!"
     ]
    },
    {
     "cell_type": "code",
     "collapsed": false,
     "input": [
      "'''\n",
      "calculates RMSD differences between all structures in a file\n",
      "\n",
      "@author: JP <jp@javaclass.co.uk>\n",
      "'''\n",
      "import os\n",
      "import getopt\n",
      "import sys\n",
      "\n",
      "# rdkit imports\n",
      "from rdkit import Chem\n",
      "from rdkit.Chem import AllChem\n",
      "\n",
      "'''\n",
      "Write contents of a string to file\n",
      "'''\n",
      "def write_contents(filename, contents):\n",
      "    # do some basic checking, could use assert strictly speaking\n",
      "    assert filename is not None, \"filename cannot be None\"\n",
      "    assert contents is not None, \"contents cannot be None\"\n",
      "    f = open(filename, \"w\")\n",
      "    f.write(contents)\n",
      "    f.close() # close the file\n",
      "\n",
      "'''\n",
      "Write a list to a file\n",
      "'''\n",
      "def write_list_to_file(filename, list, line_sep = os.linesep):\n",
      "    # do some basic checking, could use assert strictly speaking\n",
      "    assert list is not None and len(list) > 0, \"list cannot be None or empty\"\n",
      "    write_contents(filename, line_sep.join(list))\n",
      "\n",
      "'''\n",
      "Calculate RMSD spread\n",
      "'''\n",
      "def calculate_spread(molecules_file):\n",
      "\n",
      "    assert os.path.isfile(molecules_file), \"File %s does not exist!\" % molecules\n",
      "\n",
      "    # get an iterator\n",
      "    mols = Chem.SDMolSupplier(molecules_file)\n",
      "\n",
      "    spread_values = []\n",
      "    # how many molecules do we have in our file\n",
      "    mol_count = len(mols)\n",
      "    # we are going to compare each molecule with every other molecule\n",
      "    # typical n choose k scenario (n choose 2)\n",
      "    # where number of combinations is given by (n!) / k!(n-k)! ; if my maths isn't too rusty\n",
      "    for i in range(mol_count - 1):\n",
      "        for j in range(i+1, mol_count):\n",
      "            # show something is being done ... because for large mol_count this will take some time\n",
      "            print \"Aligning molecule #%d with molecule #%d (%d molecules in all)\" % (i, j, mol_count)\n",
      "            # calculate RMSD and store in an array\n",
      "            # unlike AlignMol this takes care of symmetry\n",
      "            spread_values.append(str(AllChem.GetBestRMS(mols[i], mols[j])))\n",
      "    # return that array\n",
      "    return spread_values\n",
      "\n",
      "\n",
      "def main():\n",
      "    try:\n",
      "        # the options are as follows:\n",
      "        # f - the actual structure file\n",
      "        opts, args = getopt.getopt(sys.argv[1:], \"vf:o:\")\n",
      "    except getopt.GetoptError, err:\n",
      "        # print help information and exit:\n",
      "        print str(err) # will print something like \"option -a not recognized\"\n",
      "        sys.exit(401)\n",
      "\n",
      "    # DEFAULTS\n",
      "    molecules_file  = None\n",
      "    output_file = None\n",
      "\n",
      "    for opt, arg in opts:\n",
      "        if opt == \"-v\":\n",
      "            print \"RMSD Spread 1.1\"\n",
      "            sys.exit()\n",
      "        elif opt == \"-f\":\n",
      "            molecules_file = arg\n",
      "        elif opt == \"-o\":\n",
      "            output_file = arg\n",
      "        else:\n",
      "            assert False, \"Unhandled option: \" + opt\n",
      "\n",
      "    # assert the following - not the cleanest way to do this but this will work\n",
      "    assert molecules_file is not None, \"file containing molecules must be specified, add -f to command line arguments\"\n",
      "    assert output_file is not None, \"output file must be specified, add -o to command line arguments\"\n",
      "    # get the RMSD spread values\n",
      "    spread_values = calculate_spread(molecules_file)\n",
      "    # write them to file\n",
      "    write_list_to_file(output_file, spread_values)\n",
      "\n",
      "\n",
      "if __name__ == \"__main__\":\n",
      "    main()"
     ],
     "language": "python",
     "metadata": {},
     "outputs": []
    },
    {
     "cell_type": "markdown",
     "metadata": {},
     "source": [
      "This program may be executed at the command line in the following manner (provided you have your python interpreter at `/usr/bin/python`, otherwise edit the first line; the funnily named shebang):\n",
      "\n",
      "    calculate_spread.py -f my_conformers.sdf -o my_conformers.rmsd_spread.txt\n",
      "\n",
      "**TL;DR** : The line 'AllChem.GetBestRMS(mol1, mol2)' returns the RMSD as a float and is the gist of this program. 'GetBestRMS()' takes care of symmetry unlike 'AlignMol()'"
     ]
    },
    {
     "cell_type": "markdown",
     "metadata": {},
     "source": [
      "## License\n",
      "\n",
      "This document is copyright (C) 2012-2015 by Greg Landrum\n",
      "\n",
      "This work is licensed under the Creative Commons Attribution-ShareAlike 3.0 License. To view a copy of this license, visit <http://creativecommons.org/licenses/by-sa/3.0/> or send a letter to Creative Commons, 543 Howard Street, 5th Floor, San Francisco, California, 94105, USA.\n",
      "\n",
      "The intent of this license is similar to that of the RDKit itself. In simple words: \u201cDo whatever you want with it, but please give us some credit.\u201d"
     ]
    }
   ],
   "metadata": {}
  }
 ]
}